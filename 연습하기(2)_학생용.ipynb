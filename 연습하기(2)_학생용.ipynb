{
  "nbformat": 4,
  "nbformat_minor": 0,
  "metadata": {
    "colab": {
      "name": "Untitled12.ipynb",
      "provenance": []
    },
    "kernelspec": {
      "name": "python3",
      "display_name": "Python 3"
    },
    "language_info": {
      "name": "python"
    }
  },
  "cells": [
    {
      "cell_type": "markdown",
      "source": [
        "# 4. 연습하기(1)"
      ],
      "metadata": {
        "id": "3o0TTqxKfkJV"
      }
    },
    {
      "cell_type": "markdown",
      "source": [
        "4번 연습하기(1) 혹은 연습하기(2) 중 하나를 선택해주세요"
      ],
      "metadata": {
        "id": "saKSBz9Ci_zb"
      }
    },
    {
      "cell_type": "code",
      "source": [
        "!pip install wandb"
      ],
      "metadata": {
        "colab": {
          "base_uri": "https://localhost:8080/"
        },
        "id": "TQjbUn2cu1iJ",
        "outputId": "f0a1b748-e94f-4d95-8414-371049e1cd90"
      },
      "execution_count": null,
      "outputs": [
        {
          "output_type": "stream",
          "name": "stdout",
          "text": [
            "Looking in indexes: https://pypi.org/simple, https://us-python.pkg.dev/colab-wheels/public/simple/\n",
            "Requirement already satisfied: wandb in /usr/local/lib/python3.7/dist-packages (0.12.21)\n",
            "Requirement already satisfied: sentry-sdk>=1.0.0 in /usr/local/lib/python3.7/dist-packages (from wandb) (1.9.0)\n",
            "Requirement already satisfied: PyYAML in /usr/local/lib/python3.7/dist-packages (from wandb) (3.13)\n",
            "Requirement already satisfied: shortuuid>=0.5.0 in /usr/local/lib/python3.7/dist-packages (from wandb) (1.0.9)\n",
            "Requirement already satisfied: promise<3,>=2.0 in /usr/local/lib/python3.7/dist-packages (from wandb) (2.3)\n",
            "Requirement already satisfied: GitPython>=1.0.0 in /usr/local/lib/python3.7/dist-packages (from wandb) (3.1.27)\n",
            "Requirement already satisfied: psutil>=5.0.0 in /usr/local/lib/python3.7/dist-packages (from wandb) (5.4.8)\n",
            "Requirement already satisfied: requests<3,>=2.0.0 in /usr/local/lib/python3.7/dist-packages (from wandb) (2.23.0)\n",
            "Requirement already satisfied: docker-pycreds>=0.4.0 in /usr/local/lib/python3.7/dist-packages (from wandb) (0.4.0)\n",
            "Requirement already satisfied: protobuf<4.0dev,>=3.12.0 in /usr/local/lib/python3.7/dist-packages (from wandb) (3.17.3)\n",
            "Requirement already satisfied: pathtools in /usr/local/lib/python3.7/dist-packages (from wandb) (0.1.2)\n",
            "Requirement already satisfied: Click!=8.0.0,>=7.0 in /usr/local/lib/python3.7/dist-packages (from wandb) (7.1.2)\n",
            "Requirement already satisfied: setproctitle in /usr/local/lib/python3.7/dist-packages (from wandb) (1.3.0)\n",
            "Requirement already satisfied: setuptools in /usr/local/lib/python3.7/dist-packages (from wandb) (57.4.0)\n",
            "Requirement already satisfied: six>=1.13.0 in /usr/local/lib/python3.7/dist-packages (from wandb) (1.15.0)\n",
            "Requirement already satisfied: gitdb<5,>=4.0.1 in /usr/local/lib/python3.7/dist-packages (from GitPython>=1.0.0->wandb) (4.0.9)\n",
            "Requirement already satisfied: typing-extensions>=3.7.4.3 in /usr/local/lib/python3.7/dist-packages (from GitPython>=1.0.0->wandb) (4.1.1)\n",
            "Requirement already satisfied: smmap<6,>=3.0.1 in /usr/local/lib/python3.7/dist-packages (from gitdb<5,>=4.0.1->GitPython>=1.0.0->wandb) (5.0.0)\n",
            "Requirement already satisfied: chardet<4,>=3.0.2 in /usr/local/lib/python3.7/dist-packages (from requests<3,>=2.0.0->wandb) (3.0.4)\n",
            "Requirement already satisfied: certifi>=2017.4.17 in /usr/local/lib/python3.7/dist-packages (from requests<3,>=2.0.0->wandb) (2022.6.15)\n",
            "Requirement already satisfied: urllib3!=1.25.0,!=1.25.1,<1.26,>=1.21.1 in /usr/local/lib/python3.7/dist-packages (from requests<3,>=2.0.0->wandb) (1.24.3)\n",
            "Requirement already satisfied: idna<3,>=2.5 in /usr/local/lib/python3.7/dist-packages (from requests<3,>=2.0.0->wandb) (2.10)\n"
          ]
        }
      ]
    },
    {
      "cell_type": "code",
      "execution_count": null,
      "metadata": {
        "id": "rk2pBaXQsdfY"
      },
      "outputs": [],
      "source": [
        "import tensorflow as tf\n",
        "from tensorflow import keras\n",
        "import numpy as np\n",
        "import matplotlib.pyplot as plt\n",
        "import pandas as pd\n",
        "from sklearn.model_selection import train_test_split\n",
        "import random\n",
        "import os\n",
        "import wandb\n",
        "from wandb.keras import WandbCallback"
      ]
    },
    {
      "cell_type": "code",
      "source": [
        "wandb.login()"
      ],
      "metadata": {
        "id": "fdmN_TLtnTzL"
      },
      "execution_count": null,
      "outputs": []
    },
    {
      "cell_type": "markdown",
      "source": [
        "## 4.1. 데이터셋 준비"
      ],
      "metadata": {
        "id": "h5Wt1nv5fybE"
      }
    },
    {
      "cell_type": "code",
      "source": [
        "mnist = keras.datasets.mnist\n",
        "(X_train, y_train), (X_test, y_test) = mnist.load_data()"
      ],
      "metadata": {
        "colab": {
          "base_uri": "https://localhost:8080/"
        },
        "id": "sOwP2-v7vAV2",
        "outputId": "3536b9af-bc1f-43fc-d5c7-42ce7714c9a6"
      },
      "execution_count": null,
      "outputs": [
        {
          "output_type": "stream",
          "name": "stdout",
          "text": [
            "2.8.2\n",
            "60000\n"
          ]
        }
      ]
    },
    {
      "cell_type": "code",
      "source": [
        "X_train, X_val, y_train, y_val = train_test_split(X_train, y_train, test_size = 0.2) # 테스트 사이즈는 조절해주세요"
      ],
      "metadata": {
        "id": "RdAsQyWMgio7"
      },
      "execution_count": null,
      "outputs": []
    },
    {
      "cell_type": "code",
      "source": [
        "# Callback에서 사용할 경우 val_images와 val_labels를 생성해주세요\n",
        "\n",
        "val_images, val_labels = X_test[:32], y_test[:32]"
      ],
      "metadata": {
        "id": "-LCiDQ0ill47"
      },
      "execution_count": null,
      "outputs": []
    },
    {
      "cell_type": "markdown",
      "source": [
        "## 4.2. 데이터 분석"
      ],
      "metadata": {
        "id": "b64b7-0pf2v8"
      }
    },
    {
      "cell_type": "code",
      "source": [
        "plt.imshow(X_train[1],cmap=plt.cm.binary)\n",
        "plt.show()"
      ],
      "metadata": {
        "colab": {
          "base_uri": "https://localhost:8080/",
          "height": 265
        },
        "id": "uqk0L0vOsi3Z",
        "outputId": "ded13d0c-2c99-4225-b325-b7cb02591bbe"
      },
      "execution_count": null,
      "outputs": [
        {
          "output_type": "display_data",
          "data": {
            "text/plain": [
              "<Figure size 432x288 with 1 Axes>"
            ],
            "image/png": "[encoded data removed]"
          },
          "metadata": {
            "needs_background": "light"
          }
        }
      ]
    },
    {
      "cell_type": "code",
      "source": [
        "print(y_train[1])"
      ],
      "metadata": {
        "colab": {
          "base_uri": "https://localhost:8080/"
        },
        "id": "yjrrf64eskiQ",
        "outputId": "42dcf3c9-2ef2-48f0-8ef4-8eac3679e6f9"
      },
      "execution_count": null,
      "outputs": [
        {
          "output_type": "stream",
          "name": "stdout",
          "text": [
            "0\n"
          ]
        }
      ]
    },
    {
      "cell_type": "code",
      "source": [
        "index=random.ranint(0,20000)\n",
        "plt.imshow(X_train[index],cmap=plt.cm.binary)\n",
        "plt.show()\n",
        "print( (index+1), '번째 이미지의 숫자는 바로 ',  y_train[index], '입니다.')"
      ],
      "metadata": {
        "colab": {
          "base_uri": "https://localhost:8080/",
          "height": 283
        },
        "id": "VaWI4hK4sl2h",
        "outputId": "bf2c3cc9-67d9-4b95-c72c-2a9be68802b2"
      },
      "execution_count": null,
      "outputs": [
        {
          "output_type": "display_data",
          "data": {
            "text/plain": [
              "<Figure size 432x288 with 1 Axes>"
            ],
            "image/png": "[encoded data removed]"
          },
          "metadata": {
            "needs_background": "light"
          }
        },
        {
          "output_type": "stream",
          "name": "stdout",
          "text": [
            "10001 번째 이미지의 숫자는 바로  3 입니다.\n"
          ]
        }
      ]
    },
    {
      "cell_type": "code",
      "source": [
        "print(X_train.shape)\n",
        "print(X_val.shape)\n",
        "print(X_test.shape)\n",
        "print(y_train.shape)\n",
        "print(y_val.shape)\n",
        "print(y_test.shape)"
      ],
      "metadata": {
        "colab": {
          "base_uri": "https://localhost:8080/"
        },
        "id": "oB3Gsfc7sm6p",
        "outputId": "8aa7d9ba-12cb-41da-ec5d-d64415e0faab"
      },
      "execution_count": null,
      "outputs": [
        {
          "output_type": "stream",
          "name": "stdout",
          "text": [
            "(60000, 28, 28)\n"
          ]
        }
      ]
    },
    {
      "cell_type": "code",
      "source": [
        "print('최소값:',np.min(X_train), ' 최대값:',np.max(X_train))"
      ],
      "metadata": {
        "colab": {
          "base_uri": "https://localhost:8080/"
        },
        "id": "qWiMTSNtsrdh",
        "outputId": "a16ae7fb-be34-4b59-bed3-d56daee02566"
      },
      "execution_count": null,
      "outputs": [
        {
          "output_type": "stream",
          "name": "stdout",
          "text": [
            "최소값: 0  최대값: 255\n"
          ]
        }
      ]
    },
    {
      "cell_type": "markdown",
      "source": [
        "## 4.3. 데이터 전처리"
      ],
      "metadata": {
        "id": "yPypLh0Bhctc"
      }
    },
    {
      "cell_type": "code",
      "source": [
        "X_train, X_val, X_test = X_train / 255.0, X_val / 255.0, X_test / 255.0\n",
        "print('최소값:',np.min(X_train), ' 최대값:',np.max(X_train))"
      ],
      "metadata": {
        "colab": {
          "base_uri": "https://localhost:8080/"
        },
        "id": "OkYqXCFbsuGR",
        "outputId": "a398ac35-e348-4e46-a96a-999d637968b3"
      },
      "execution_count": null,
      "outputs": [
        {
          "output_type": "stream",
          "name": "stdout",
          "text": [
            "최소값: 0.0  최대값: 1.0\n"
          ]
        }
      ]
    },
    {
      "cell_type": "code",
      "source": [
        "print(\"Before Reshape - x_train shape: {}\".format(X_train.shape))\n",
        "print(\"Before Reshape - x_val shape: {}\".format(X_val.shape))\n",
        "print(\"Before Reshape - x_test shape: {}\".format(X_test.shape))\n",
        "\n",
        "X_train = X_train.reshape( -1, 28, 28, 1)\n",
        "X_val = X_val.reshape( -1, 28, 28, 1)\n",
        "X_test = X_test.reshape( -1, 28, 28, 1)\n",
        "\n",
        "print(\"After Reshape - x_train shape: {}\".format(X_train.shape))\n",
        "print(\"After Reshape - x_val shape: {}\".format(X_val.shape))\n",
        "print(\"After Reshape - x_test shape: {}\".format(X_test.shape))"
      ],
      "metadata": {
        "colab": {
          "base_uri": "https://localhost:8080/"
        },
        "id": "sOKeSNuNszHh",
        "outputId": "24126abf-78fb-4853-86e3-4f88487a426f"
      },
      "execution_count": null,
      "outputs": [
        {
          "output_type": "stream",
          "name": "stdout",
          "text": [
            "Before Reshape - x_train_norm shape: (48000, 28, 28)\n",
            "Before Reshape - x_train_norm shape: (48000, 28, 28)\n",
            "Before Reshape - x_test_norm shape: (10000, 28, 28)\n",
            "After Reshape - x_train_reshaped shape: (48000, 28, 28, 1)\n",
            "After Reshape - x_train_reshaped shape: (12000, 28, 28, 1)\n",
            "After Reshape - x_test_reshaped shape: (10000, 28, 28, 1)\n"
          ]
        }
      ]
    },
    {
      "cell_type": "markdown",
      "source": [
        "## 4.4. Sweep Config 만들기"
      ],
      "metadata": {
        "id": "yBA7Hp1ekI1a"
      }
    },
    {
      "cell_type": "code",
      "source": [
        "# yaml 파일로 만들어도 됩니다.\n",
        "\n",
        "sweep_config = {\n",
        "    \"name\": <YOUR CODE>,\n",
        "    \"metric\": <YOUR CODE>,\n",
        "    \"method\": <YOUR CODE>,\n",
        "    \"parameters\": {<YOUR CODE>}\n",
        "    }"
      ],
      "metadata": {
        "id": "U8qQTeMIkHUb"
      },
      "execution_count": null,
      "outputs": []
    },
    {
      "cell_type": "markdown",
      "source": [
        "## 4.5. Train 함수 생성하기"
      ],
      "metadata": {
        "id": "FY4C1k11mrp7"
      }
    },
    {
      "cell_type": "code",
      "source": [
        "def train():\n",
        "    default_config = {<YOUR CODE>}\n",
        "\n",
        "    wandb.init(config = default_config)\n",
        "    config = wandb.config\n",
        "\n",
        "    # Model을 만들어주세요\n",
        "\n",
        "    model = <YOUR CODE>\n",
        "\n",
        "    # optimizer와 metrics를 입력해주세요\n",
        "    \n",
        "    model.compile(<YOUR CODE>)\n",
        "\n",
        "    # wandb callback을 사용해보세요\n",
        "\n",
        "    model.fit(X_train, y_train,\n",
        "              epochs = config.epochs,\n",
        "              batch_size = config.batch_size,\n",
        "              validation_data = (X_val, y_val),\n",
        "              callbacks = [<YOUR CODE>])\n",
        "    \n",
        "    # model을 평가해주세요\n",
        "\n",
        "    test_loss, test_accuracy = model.evaluate(X_test, y_test, verbose=2)\n",
        "\n",
        "    # log에 저장할 항목을 설정해주세요\n",
        "    wandb.log(<YOUR CODE>)"
      ],
      "metadata": {
        "id": "hoCXATafkeCq"
      },
      "execution_count": null,
      "outputs": []
    },
    {
      "cell_type": "markdown",
      "source": [
        "## 4.6. Sweep id, agent 생성 및 run 하기"
      ],
      "metadata": {
        "id": "tw8QJxwBmw7S"
      }
    },
    {
      "cell_type": "code",
      "source": [
        "# sweep id 생성하기\n",
        "\n",
        "sweep_id = wandb.sweep(sweep_config)\n",
        "\n",
        "# run the sweep\n",
        "wandb.agent(sweep_id,\n",
        "            function=train,\n",
        "            entity = <YOUR CODE>,\n",
        "            project = <YOUR CODE>)"
      ],
      "metadata": {
        "id": "oFRIqu4Nkd-y"
      },
      "execution_count": null,
      "outputs": []
    },
    {
      "cell_type": "code",
      "source": [
        "wandb.finish()"
      ],
      "metadata": {
        "id": "-DMu34uckd5C"
      },
      "execution_count": null,
      "outputs": []
    }
  ]
}
{
  "cells": [
    {
      "cell_type": "markdown",
      "metadata": {
        "id": "pqkYpMvMoo3X"
      },
      "source": [
        "# 2. WanDB 적용해보기"
      ]
    },
    {
      "cell_type": "markdown",
      "metadata": {
        "id": "InfBlw4C4TjN"
      },
      "source": [
        "여기에서는 baseline에 WanDB를 적용하여 Experiment tracking 기능을 활용해보도록 하겠습니다.\n",
        "\n",
        "즉, 다시 말하면 실험에 대한 정보를 WanDB 페이지상에 전송하는 것입니다."
      ]
    },
    {
      "cell_type": "markdown",
      "metadata": {
        "id": "iWWFJkT24k1E"
      },
      "source": [
        "## 1. 설치하기 및 로그인하기"
      ]
    },
    {
      "cell_type": "code",
      "execution_count": 1,
      "metadata": {
        "colab": {
          "base_uri": "https://localhost:8080/"
        },
        "id": "NWKT79V9NiE8",
        "outputId": "510ce918-fefa-4432-ffab-45c8ae11d3f4"
      },
      "outputs": [
        {
          "name": "stdout",
          "output_type": "stream",
          "text": [
            "Looking in indexes: https://pypi.org/simple, https://us-python.pkg.dev/colab-wheels/public/simple/\n",
            "Requirement already satisfied: wandb in /usr/local/lib/python3.7/dist-packages (0.13.0)\n",
            "Requirement already satisfied: GitPython>=1.0.0 in /usr/local/lib/python3.7/dist-packages (from wandb) (3.1.27)\n",
            "Requirement already satisfied: requests<3,>=2.0.0 in /usr/local/lib/python3.7/dist-packages (from wandb) (2.23.0)\n",
            "Requirement already satisfied: PyYAML in /usr/local/lib/python3.7/dist-packages (from wandb) (3.13)\n",
            "Requirement already satisfied: Click!=8.0.0,>=7.0 in /usr/local/lib/python3.7/dist-packages (from wandb) (7.1.2)\n",
            "Requirement already satisfied: setproctitle in /usr/local/lib/python3.7/dist-packages (from wandb) (1.3.0)\n",
            "Requirement already satisfied: pathtools in /usr/local/lib/python3.7/dist-packages (from wandb) (0.1.2)\n",
            "Requirement already satisfied: setuptools in /usr/local/lib/python3.7/dist-packages (from wandb) (57.4.0)\n",
            "Requirement already satisfied: sentry-sdk>=1.0.0 in /usr/local/lib/python3.7/dist-packages (from wandb) (1.9.0)\n",
            "Requirement already satisfied: psutil>=5.0.0 in /usr/local/lib/python3.7/dist-packages (from wandb) (5.4.8)\n",
            "Requirement already satisfied: shortuuid>=0.5.0 in /usr/local/lib/python3.7/dist-packages (from wandb) (1.0.9)\n",
            "Requirement already satisfied: promise<3,>=2.0 in /usr/local/lib/python3.7/dist-packages (from wandb) (2.3)\n",
            "Requirement already satisfied: protobuf<4.0dev,>=3.12.0 in /usr/local/lib/python3.7/dist-packages (from wandb) (3.17.3)\n",
            "Requirement already satisfied: six>=1.13.0 in /usr/local/lib/python3.7/dist-packages (from wandb) (1.15.0)\n",
            "Requirement already satisfied: docker-pycreds>=0.4.0 in /usr/local/lib/python3.7/dist-packages (from wandb) (0.4.0)\n",
            "Requirement already satisfied: typing-extensions>=3.7.4.3 in /usr/local/lib/python3.7/dist-packages (from GitPython>=1.0.0->wandb) (4.1.1)\n",
            "Requirement already satisfied: gitdb<5,>=4.0.1 in /usr/local/lib/python3.7/dist-packages (from GitPython>=1.0.0->wandb) (4.0.9)\n",
            "Requirement already satisfied: smmap<6,>=3.0.1 in /usr/local/lib/python3.7/dist-packages (from gitdb<5,>=4.0.1->GitPython>=1.0.0->wandb) (5.0.0)\n",
            "Requirement already satisfied: idna<3,>=2.5 in /usr/local/lib/python3.7/dist-packages (from requests<3,>=2.0.0->wandb) (2.10)\n",
            "Requirement already satisfied: certifi>=2017.4.17 in /usr/local/lib/python3.7/dist-packages (from requests<3,>=2.0.0->wandb) (2022.6.15)\n",
            "Requirement already satisfied: urllib3!=1.25.0,!=1.25.1,<1.26,>=1.21.1 in /usr/local/lib/python3.7/dist-packages (from requests<3,>=2.0.0->wandb) (1.24.3)\n",
            "Requirement already satisfied: chardet<4,>=3.0.2 in /usr/local/lib/python3.7/dist-packages (from requests<3,>=2.0.0->wandb) (3.0.4)\n"
          ]
        }
      ],
      "source": [
        "!pip install wandb"
      ]
    },
    {
      "cell_type": "code",
      "execution_count": 1,
      "metadata": {
        "id": "anOtr3ofMz1c"
      },
      "outputs": [],
      "source": [
        "import os\n",
        "import matplotlib.pyplot as plt\n",
        "import numpy as np\n",
        "import pandas as pd\n",
        "import tensorflow as tf\n",
        "from tensorflow import keras\n",
        "from sklearn.model_selection import train_test_split\n",
        "import wandb\n",
        "from wandb.keras import WandbCallback"
      ]
    },
    {
      "cell_type": "markdown",
      "metadata": {
        "id": "fNxdPRSF2pzA"
      },
      "source": [
        "WanDB의 경우 여러가지 방식으로 동작시킬 수 있습니다.\n",
        "\n",
        "Commend line을 통한 방법과 python 코드를 통하는 방법입니다. 하지만 결과 자체는 동일합니다.\n",
        "\n",
        "[Commend line](https://docs.wandb.ai/ref/cli/wandb-login)\n",
        "\n",
        "[Github](https://github.com/wandb/wandb/blob/latest/wandb/sdk/wandb_login.py#L43-L77)"
      ]
    },
    {
      "cell_type": "markdown",
      "metadata": {
        "id": "MmLDNTnRotkO"
      },
      "source": [
        "로그인 역시 마찬가지로 로그인 이후에는 해당 터미널/세션이 끝나기 전까진 별도의 로그인 작업 없이 진행할 수 있습니다."
      ]
    },
    {
      "cell_type": "markdown",
      "metadata": {
        "id": "hPn2FXKN3T1X"
      },
      "source": [
        "### **wandb login [option] [key]**"
      ]
    },
    {
      "cell_type": "code",
      "execution_count": 3,
      "metadata": {
        "colab": {
          "base_uri": "https://localhost:8080/"
        },
        "id": "xxYYUN6gWJl1",
        "outputId": "dcc4848b-a718-472f-dba2-f27f86dfe784"
      },
      "outputs": [
        {
          "name": "stdout",
          "output_type": "stream",
          "text": [
            "\u001b[34m\u001b[1mwandb\u001b[0m: Appending key for api.wandb.ai to your netrc file: /root/.netrc\n"
          ]
        }
      ],
      "source": [
        "# 커맨드 라인을 통한 로그인 방식\n",
        "\n",
        "!wandb login [token key] # 이와 같이 미리 토큰 값을 입력할 수 있습니다.자세한 옵션은 아래 링크 참조"
      ]
    },
    {
      "cell_type": "code",
      "execution_count": 4,
      "metadata": {
        "id": "0vcZbpuhWx5l"
      },
      "outputs": [],
      "source": [
        "# 코드를 이용한 방식 이 방법을 추천\n",
        "\n",
        "# wandb.login()"
      ]
    },
    {
      "cell_type": "markdown",
      "metadata": {
        "id": "ZEDWZrK26e5r"
      },
      "source": [
        "## 2. Baseline 구현(데이터 준비 ~ 전처리)"
      ]
    },
    {
      "cell_type": "markdown",
      "metadata": {
        "id": "S0OOCJQK6x9M"
      },
      "source": [
        "데이터 분석 파트는 생략하도록 하겠습니다."
      ]
    },
    {
      "cell_type": "code",
      "execution_count": 2,
      "metadata": {
        "id": "Y5CYviJKNGpk"
      },
      "outputs": [],
      "source": [
        "# Data load\n",
        "\n",
        "cifar10 = tf.keras.datasets.cifar10\n",
        "(X_train, y_train), (X_test, y_test) = cifar10.load_data()"
      ]
    },
    {
      "cell_type": "code",
      "execution_count": 3,
      "metadata": {
        "id": "qRu8ZPGf6v7M"
      },
      "outputs": [],
      "source": [
        "# Validation Set\n",
        "\n",
        "X_train, X_val, y_train, y_val = train_test_split(X_train, y_train, test_size = 0.25)"
      ]
    },
    {
      "cell_type": "code",
      "execution_count": 4,
      "metadata": {
        "id": "g-x8skomNGj-"
      },
      "outputs": [],
      "source": [
        "CLASS_NAMES = [\"airplane\", \"automobile\", \"bird\", \"cat\", \"deer\", \"dog\", \"frog\", \"hores\", \"ship\", \"truck\"]"
      ]
    },
    {
      "cell_type": "code",
      "execution_count": 5,
      "metadata": {
        "id": "7jSSKjUcNGmM"
      },
      "outputs": [],
      "source": [
        "# Normalization\n",
        "\n",
        "X_train, X_val, X_test = X_train / 255., X_val / 255., X_test / 255."
      ]
    },
    {
      "cell_type": "markdown",
      "metadata": {
        "id": "eaG7x4L368KM"
      },
      "source": [
        "## 3. wandb.init() 알아보기"
      ]
    },
    {
      "cell_type": "markdown",
      "metadata": {
        "id": "w88TFRSq7Q7T"
      },
      "source": [
        "[commend line](https://docs.wandb.ai/ref/cli/wandb-init)\n",
        "\n",
        "[python code](https://docs.wandb.ai/ref/python/init)\n",
        "\n",
        "[github](https://github.com/wandb/wandb/blob/latest/wandb/sdk/wandb_init.py#L722-L990)"
      ]
    },
    {
      "cell_type": "markdown",
      "metadata": {
        "id": "1tBt6MgjU-oW"
      },
      "source": [
        "### config에 대해서\n",
        "\n",
        "config에는 모델에 대한 가능한 많은 정보를 기입하기를 추천합니다.\n",
        "\n",
        "config의 경우 yaml 파일 형식으로 많이 활용합니다.\n",
        "\n",
        "[python code](https://docs.wandb.ai/ref/python/config)"
      ]
    },
    {
      "cell_type": "code",
      "execution_count": 6,
      "metadata": {
        "colab": {
          "base_uri": "https://localhost:8080/",
          "height": 88
        },
        "id": "Sj-9wru5RAoe",
        "outputId": "0a5476a5-f890-43f5-88b9-1614e6c240a2"
      },
      "outputs": [
        {
          "name": "stderr",
          "output_type": "stream",
          "text": [
            "Failed to detect the name of this notebook, you can set it manually with the WANDB_NOTEBOOK_NAME environment variable to enable code saving.\n",
            "\u001b[34m\u001b[1mwandb\u001b[0m: Currently logged in as: \u001b[33msuncreation\u001b[0m. Use \u001b[1m`wandb login --relogin`\u001b[0m to force relogin\n"
          ]
        },
        {
          "data": {
            "text/html": [
              "Tracking run with wandb version 0.13.1"
            ],
            "text/plain": [
              "<IPython.core.display.HTML object>"
            ]
          },
          "metadata": {},
          "output_type": "display_data"
        },
        {
          "data": {
            "text/html": [
              "Run data is saved locally in <code>/aiffel/wandb/run-20220810_085019-1sxvxgse</code>"
            ],
            "text/plain": [
              "<IPython.core.display.HTML object>"
            ]
          },
          "metadata": {},
          "output_type": "display_data"
        },
        {
          "data": {
            "text/html": [
              "Syncing run <strong><a href=\"https://wandb.ai/suncreation/keras-example/runs/1sxvxgse\" target=\"_blank\">wandering-puddle-1</a></strong> to <a href=\"https://wandb.ai/suncreation/keras-example\" target=\"_blank\">Weights & Biases</a> (<a href=\"https://wandb.me/run\" target=\"_blank\">docs</a>)<br/>"
            ],
            "text/plain": [
              "<IPython.core.display.HTML object>"
            ]
          },
          "metadata": {},
          "output_type": "display_data"
        }
      ],
      "source": [
        "run = wandb.init(project = 'keras-example',\n",
        "                 entity=\"suncreation\",\n",
        "                 config = {\n",
        "                     \"n_channel_1\" : 32,\n",
        "                     \"n_channel_2\" : 64,\n",
        "                     \"n_dense\" : 1024,\n",
        "                     \"learning_rate\" : 0.005,\n",
        "                     \"epochs\" : 5,\n",
        "                     \"batch_size\" : 32,\n",
        "                     \"optimizer\" : \"adam\",\n",
        "                     \"loss\" : \"sparse_categorical_crossentropy\",\n",
        "                     \"metrics\" : [\"accuracy\"]\n",
        "                 })\n",
        "\n",
        "config = wandb.config"
      ]
    },
    {
      "cell_type": "markdown",
      "metadata": {
        "id": "lYbwsg5QHKy5"
      },
      "source": [
        "## 4. wandb.config 적용하기"
      ]
    },
    {
      "cell_type": "code",
      "execution_count": 7,
      "metadata": {
        "colab": {
          "base_uri": "https://localhost:8080/"
        },
        "id": "60veHwJxRAr8",
        "outputId": "3a5aff9d-ad65-4467-c90a-368262684a72"
      },
      "outputs": [
        {
          "name": "stdout",
          "output_type": "stream",
          "text": [
            "Model에 추가된 Layer 개수:  7\n"
          ]
        }
      ],
      "source": [
        "# model 설계\n",
        "\n",
        "tf.keras.backend.clear_session()\n",
        "\n",
        "model=keras.models.Sequential()\n",
        "model.add(keras.layers.Conv2D(config.n_channel_1, (3,3), activation='relu', input_shape=(32,32,3)))\n",
        "model.add(keras.layers.MaxPool2D(2,2))\n",
        "model.add(keras.layers.Conv2D(config.n_channel_2, (3,3), activation='relu'))\n",
        "model.add(keras.layers.MaxPooling2D((2,2)))\n",
        "model.add(keras.layers.Flatten())\n",
        "model.add(keras.layers.Dense(config.n_dense, activation='relu'))\n",
        "model.add(keras.layers.Dense(len(CLASS_NAMES), activation='softmax'))\n",
        "\n",
        "print('Model에 추가된 Layer 개수: ', len(model.layers))"
      ]
    },
    {
      "cell_type": "code",
      "execution_count": 8,
      "metadata": {
        "colab": {
          "base_uri": "https://localhost:8080/"
        },
        "id": "zUJ0_JJYRAqT",
        "outputId": "bf025734-9404-43ae-98b6-f55f96574f81"
      },
      "outputs": [
        {
          "name": "stdout",
          "output_type": "stream",
          "text": [
            "Model: \"sequential\"\n",
            "_________________________________________________________________\n",
            "Layer (type)                 Output Shape              Param #   \n",
            "=================================================================\n",
            "conv2d (Conv2D)              (None, 30, 30, 32)        896       \n",
            "_________________________________________________________________\n",
            "max_pooling2d (MaxPooling2D) (None, 15, 15, 32)        0         \n",
            "_________________________________________________________________\n",
            "conv2d_1 (Conv2D)            (None, 13, 13, 64)        18496     \n",
            "_________________________________________________________________\n",
            "max_pooling2d_1 (MaxPooling2 (None, 6, 6, 64)          0         \n",
            "_________________________________________________________________\n",
            "flatten (Flatten)            (None, 2304)              0         \n",
            "_________________________________________________________________\n",
            "dense (Dense)                (None, 1024)              2360320   \n",
            "_________________________________________________________________\n",
            "dense_1 (Dense)              (None, 10)                10250     \n",
            "=================================================================\n",
            "Total params: 2,389,962\n",
            "Trainable params: 2,389,962\n",
            "Non-trainable params: 0\n",
            "_________________________________________________________________\n"
          ]
        }
      ],
      "source": [
        "model.summary()"
      ]
    },
    {
      "cell_type": "code",
      "execution_count": 9,
      "metadata": {
        "id": "M_-1oZqzRAlz"
      },
      "outputs": [],
      "source": [
        "if config.optimizer == \"adam\":\n",
        "    optimizer = keras.optimizers.Adam(learning_rate = config.learning_rate)\n",
        "else:\n",
        "    optimizer = keras.optimizers.SGD()\n",
        "\n",
        "model.compile(optimizer = optimizer,\n",
        "             loss = config.loss,\n",
        "             metrics = config.metrics)"
      ]
    },
    {
      "cell_type": "markdown",
      "metadata": {
        "id": "9QqUpzCYHtYp"
      },
      "source": [
        "## 5. WandbCallback"
      ]
    },
    {
      "cell_type": "markdown",
      "metadata": {
        "id": "G_04ChWkOJ9I"
      },
      "source": [
        "[keras wandbcallback](https://docs.wandb.ai/ref/python/integrations/keras/wandbcallback)\n",
        "\n",
        "[github](https://github.com/wandb/wandb/blob/latest/wandb/integration/keras/keras.py#L272-L969)\n",
        "\n",
        "주요 prams\n",
        "*   monitor\n",
        "*   log_weights / gradients\n",
        "\n",
        "Visualization 시 parms\n",
        "*   validation_data\n",
        "*   input_type(data_type)\n",
        "*   labels\n",
        "*   output_type\n",
        "\n"
      ]
    },
    {
      "cell_type": "code",
      "execution_count": 10,
      "metadata": {
        "colab": {
          "base_uri": "https://localhost:8080/"
        },
        "id": "qyAGL6FQRAjM",
        "outputId": "5527d4b6-29ca-4d5f-d403-5e53b4b9fc48"
      },
      "outputs": [
        {
          "name": "stderr",
          "output_type": "stream",
          "text": [
            "\u001b[34m\u001b[1mwandb\u001b[0m: \u001b[33mWARNING\u001b[0m The save_model argument by default saves the model in the HDF5 format that cannot save custom objects like subclassed models and custom layers. This behavior will be deprecated in a future release in favor of the SavedModel format. Meanwhile, the HDF5 model is saved as W&B files and the SavedModel as W&B Artifacts.\n"
          ]
        },
        {
          "name": "stdout",
          "output_type": "stream",
          "text": [
            "WARNING:tensorflow:From /opt/conda/lib/python3.9/site-packages/tensorflow/python/ops/nn_ops.py:5063: tensor_shape_from_node_def_name (from tensorflow.python.framework.graph_util_impl) is deprecated and will be removed in a future version.\n",
            "Instructions for updating:\n",
            "Use `tf.compat.v1.graph_util.tensor_shape_from_node_def_name`\n",
            "Epoch 1/5\n",
            "   1/1172 [..............................] - ETA: 1:03:33 - loss: 2.3174 - accuracy: 0.0312WARNING:tensorflow:Callback method `on_train_batch_end` is slow compared to the batch time (batch time: 0.0037s vs `on_train_batch_end` time: 0.0043s). Check your callbacks.\n",
            "1172/1172 [==============================] - 9s 5ms/step - loss: 1.6408 - accuracy: 0.4042 - val_loss: 1.4818 - val_accuracy: 0.4697\n",
            "INFO:tensorflow:Assets written to: /aiffel/wandb/run-20220810_085019-1sxvxgse/files/model-best/assets\n"
          ]
        },
        {
          "name": "stderr",
          "output_type": "stream",
          "text": [
            "\u001b[34m\u001b[1mwandb\u001b[0m: Adding directory to artifact (/aiffel/wandb/run-20220810_085019-1sxvxgse/files/model-best)... Done. 0.2s\n"
          ]
        },
        {
          "name": "stdout",
          "output_type": "stream",
          "text": [
            "Epoch 2/5\n",
            "1172/1172 [==============================] - 5s 4ms/step - loss: 1.3721 - accuracy: 0.5087 - val_loss: 1.5615 - val_accuracy: 0.4650\n",
            "Epoch 3/5\n",
            "1172/1172 [==============================] - 6s 5ms/step - loss: 1.2691 - accuracy: 0.5511 - val_loss: 1.3003 - val_accuracy: 0.5424\n",
            "INFO:tensorflow:Assets written to: /aiffel/wandb/run-20220810_085019-1sxvxgse/files/model-best/assets\n"
          ]
        },
        {
          "name": "stderr",
          "output_type": "stream",
          "text": [
            "\u001b[34m\u001b[1mwandb\u001b[0m: Adding directory to artifact (/aiffel/wandb/run-20220810_085019-1sxvxgse/files/model-best)... Done. 0.2s\n"
          ]
        },
        {
          "name": "stdout",
          "output_type": "stream",
          "text": [
            "Epoch 4/5\n",
            "1172/1172 [==============================] - 5s 4ms/step - loss: 1.1728 - accuracy: 0.5864 - val_loss: 1.2995 - val_accuracy: 0.5408\n",
            "INFO:tensorflow:Assets written to: /aiffel/wandb/run-20220810_085019-1sxvxgse/files/model-best/assets\n"
          ]
        },
        {
          "name": "stderr",
          "output_type": "stream",
          "text": [
            "\u001b[34m\u001b[1mwandb\u001b[0m: Adding directory to artifact (/aiffel/wandb/run-20220810_085019-1sxvxgse/files/model-best)... Done. 0.2s\n"
          ]
        },
        {
          "name": "stdout",
          "output_type": "stream",
          "text": [
            "Epoch 5/5\n",
            "1172/1172 [==============================] - 5s 4ms/step - loss: 1.0864 - accuracy: 0.6191 - val_loss: 1.2983 - val_accuracy: 0.5591\n",
            "INFO:tensorflow:Assets written to: /aiffel/wandb/run-20220810_085019-1sxvxgse/files/model-best/assets\n"
          ]
        },
        {
          "name": "stderr",
          "output_type": "stream",
          "text": [
            "\u001b[34m\u001b[1mwandb\u001b[0m: Adding directory to artifact (/aiffel/wandb/run-20220810_085019-1sxvxgse/files/model-best)... Done. 0.2s\n"
          ]
        },
        {
          "data": {
            "text/plain": [
              "<keras.callbacks.History at 0x7f1dd8155280>"
            ]
          },
          "execution_count": 10,
          "metadata": {},
          "output_type": "execute_result"
        }
      ],
      "source": [
        "# 아래의 val_image는 WandbCallback에 사용하기 위한 용도입니다.\n",
        "\n",
        "val_images, val_labels = X_test[:32], y_test[:32]\n",
        "\n",
        "model.fit(X_train, y_train,\n",
        "          epochs = config.epochs,\n",
        "          batch_size = config.batch_size,\n",
        "          validation_data = (X_val, y_val),\n",
        "          callbacks = [WandbCallback(input_type = 'images',\n",
        "                                     training_data = (val_images, val_labels),\n",
        "                                     labels = CLASS_NAMES,\n",
        "                                     log_weights = True,\n",
        "                                     log_gradients = True)],)"
      ]
    },
    {
      "cell_type": "markdown",
      "metadata": {
        "id": "_GhJ42zNRz0A"
      },
      "source": [
        "## 6. wandb.log"
      ]
    },
    {
      "cell_type": "markdown",
      "metadata": {
        "id": "HyEzAeasR5X-"
      },
      "source": [
        "[python code](https://docs.wandb.ai/ref/python/log)\n",
        "\n",
        "[github](https://github.com/wandb/wandb/blob/latest/wandb/sdk/wandb_run.py#L1125-L1351)"
      ]
    },
    {
      "cell_type": "code",
      "execution_count": 11,
      "metadata": {
        "colab": {
          "base_uri": "https://localhost:8080/"
        },
        "id": "vDgU_95uNGZc",
        "outputId": "f2d86b93-febe-4973-944f-4ffc12a314e9"
      },
      "outputs": [
        {
          "name": "stdout",
          "output_type": "stream",
          "text": [
            "313/313 - 1s - loss: 1.2931 - accuracy: 0.5544\n",
            "test_loss: 1.2930829524993896 \n",
            "test_accuracy: 0.5544000267982483\n"
          ]
        }
      ],
      "source": [
        "test_loss, test_accuracy = model.evaluate(X_test, y_test, verbose=2)\n",
        "print(\"test_loss: {} \".format(test_loss))\n",
        "print(\"test_accuracy: {}\".format(test_accuracy))\n",
        "\n",
        "wandb.log({\"Test Accuracy Rate: \" : round(test_accuracy * 100, 2),\n",
        "           \"Test Error Rate: \" : round((1 - test_accuracy) * 100, 2)})"
      ]
    },
    {
      "cell_type": "code",
      "execution_count": 12,
      "metadata": {
        "colab": {
          "base_uri": "https://localhost:8080/",
          "height": 447,
          "referenced_widgets": [
            "395095fe8a6f47c99ad2dc08a21eeaca",
            "fbcdd066bb2b4b66bd6feccec9e1ef5b",
            "507439400c344516b6433409eeddda92",
            "e8b3749e6d3f488cac74c989e3ad14ec",
            "2bf0884c34c84d6b9f8b3c572ea7b3f3",
            "1c08e3b58cf244c5bb75873caa3cb2ce",
            "227ef062e80a47fca2ecf1bec4e1783e",
            "0ca964d01b18436ab73410f1593ae66f"
          ]
        },
        "id": "jb9hpRl7lX64",
        "outputId": "711ebce8-57b1-4236-d9ad-c470e89b83b8"
      },
      "outputs": [
        {
          "data": {
            "text/html": [
              "Waiting for W&B process to finish... <strong style=\"color:green\">(success).</strong>"
            ],
            "text/plain": [
              "<IPython.core.display.HTML object>"
            ]
          },
          "metadata": {},
          "output_type": "display_data"
        },
        {
          "data": {
            "application/vnd.jupyter.widget-view+json": {
              "model_id": "66ff4e30b69643aeb7e8df51bacb3385",
              "version_major": 2,
              "version_minor": 0
            },
            "text/plain": [
              "VBox(children=(Label(value='137.746 MB of 137.746 MB uploaded (0.014 MB deduped)\\r'), FloatProgress(value=1.0,…"
            ]
          },
          "metadata": {},
          "output_type": "display_data"
        },
        {
          "data": {
            "text/html": [
              "<style>\n",
              "    table.wandb td:nth-child(1) { padding: 0 10px; text-align: left ; width: auto;} td:nth-child(2) {text-align: left ; width: 100%}\n",
              "    .wandb-row { display: flex; flex-direction: row; flex-wrap: wrap; justify-content: flex-start; width: 100% }\n",
              "    .wandb-col { display: flex; flex-direction: column; flex-basis: 100%; flex: 1; padding: 10px; }\n",
              "    </style>\n",
              "<div class=\"wandb-row\"><div class=\"wandb-col\"><h3>Run history:</h3><br/><table class=\"wandb\"><tr><td>Test Accuracy Rate: </td><td>▁</td></tr><tr><td>Test Error Rate: </td><td>▁</td></tr><tr><td>accuracy</td><td>▁▄▆▇█</td></tr><tr><td>epoch</td><td>▁▃▅▆█</td></tr><tr><td>loss</td><td>█▅▃▂▁</td></tr><tr><td>val_accuracy</td><td>▁▁▇▇█</td></tr><tr><td>val_loss</td><td>▆█▁▁▁</td></tr></table><br/></div><div class=\"wandb-col\"><h3>Run summary:</h3><br/><table class=\"wandb\"><tr><td>GFLOPs</td><td>0.0063</td></tr><tr><td>Test Accuracy Rate: </td><td>55.44</td></tr><tr><td>Test Error Rate: </td><td>44.56</td></tr><tr><td>accuracy</td><td>0.61912</td></tr><tr><td>best_epoch</td><td>4</td></tr><tr><td>best_val_loss</td><td>1.29828</td></tr><tr><td>epoch</td><td>4</td></tr><tr><td>loss</td><td>1.08641</td></tr><tr><td>val_accuracy</td><td>0.55912</td></tr><tr><td>val_loss</td><td>1.29828</td></tr></table><br/></div></div>"
            ],
            "text/plain": [
              "<IPython.core.display.HTML object>"
            ]
          },
          "metadata": {},
          "output_type": "display_data"
        },
        {
          "data": {
            "text/html": [
              "Synced <strong style=\"color:#cdcd00\">wandering-puddle-1</strong>: <a href=\"https://wandb.ai/suncreation/keras-example/runs/1sxvxgse\" target=\"_blank\">https://wandb.ai/suncreation/keras-example/runs/1sxvxgse</a><br/>Synced 5 W&B file(s), 181 media file(s), 13 artifact file(s) and 1 other file(s)"
            ],
            "text/plain": [
              "<IPython.core.display.HTML object>"
            ]
          },
          "metadata": {},
          "output_type": "display_data"
        },
        {
          "data": {
            "text/html": [
              "Find logs at: <code>./wandb/run-20220810_085019-1sxvxgse/logs</code>"
            ],
            "text/plain": [
              "<IPython.core.display.HTML object>"
            ]
          },
          "metadata": {},
          "output_type": "display_data"
        }
      ],
      "source": [
        "wandb.finish()"
      ]
    },
    {
      "cell_type": "code",
      "execution_count": null,
      "metadata": {},
      "outputs": [],
      "source": []
    }
  ],
  "metadata": {
    "accelerator": "GPU",
    "colab": {
      "collapsed_sections": [],
      "name": "Cifar10_2.ipynb",
      "provenance": [],
      "toc_visible": true
    },
    "gpuClass": "standard",
    "kernelspec": {
      "display_name": "Python 3 (ipykernel)",
      "language": "python",
      "name": "python3"
    },
    "language_info": {
      "codemirror_mode": {
        "name": "ipython",
        "version": 3
      },
      "file_extension": ".py",
      "mimetype": "text/x-python",
      "name": "python",
      "nbconvert_exporter": "python",
      "pygments_lexer": "ipython3",
      "version": "3.9.7"
    },
    "widgets": {
      "application/vnd.jupyter.widget-state+json": {
        "0ca964d01b18436ab73410f1593ae66f": {
          "model_module": "@jupyter-widgets/controls",
          "model_module_version": "1.5.0",
          "model_name": "ProgressStyleModel",
          "state": {
            "_model_module": "@jupyter-widgets/controls",
            "_model_module_version": "1.5.0",
            "_model_name": "ProgressStyleModel",
            "_view_count": null,
            "_view_module": "@jupyter-widgets/base",
            "_view_module_version": "1.2.0",
            "_view_name": "StyleView",
            "bar_color": null,
            "description_width": ""
          }
        },
        "1c08e3b58cf244c5bb75873caa3cb2ce": {
          "model_module": "@jupyter-widgets/controls",
          "model_module_version": "1.5.0",
          "model_name": "DescriptionStyleModel",
          "state": {
            "_model_module": "@jupyter-widgets/controls",
            "_model_module_version": "1.5.0",
            "_model_name": "DescriptionStyleModel",
            "_view_count": null,
            "_view_module": "@jupyter-widgets/base",
            "_view_module_version": "1.2.0",
            "_view_name": "StyleView",
            "description_width": ""
          }
        },
        "227ef062e80a47fca2ecf1bec4e1783e": {
          "model_module": "@jupyter-widgets/base",
          "model_module_version": "1.2.0",
          "model_name": "LayoutModel",
          "state": {
            "_model_module": "@jupyter-widgets/base",
            "_model_module_version": "1.2.0",
            "_model_name": "LayoutModel",
            "_view_count": null,
            "_view_module": "@jupyter-widgets/base",
            "_view_module_version": "1.2.0",
            "_view_name": "LayoutView",
            "align_content": null,
            "align_items": null,
            "align_self": null,
            "border": null,
            "bottom": null,
            "display": null,
            "flex": null,
            "flex_flow": null,
            "grid_area": null,
            "grid_auto_columns": null,
            "grid_auto_flow": null,
            "grid_auto_rows": null,
            "grid_column": null,
            "grid_gap": null,
            "grid_row": null,
            "grid_template_areas": null,
            "grid_template_columns": null,
            "grid_template_rows": null,
            "height": null,
            "justify_content": null,
            "justify_items": null,
            "left": null,
            "margin": null,
            "max_height": null,
            "max_width": null,
            "min_height": null,
            "min_width": null,
            "object_fit": null,
            "object_position": null,
            "order": null,
            "overflow": null,
            "overflow_x": null,
            "overflow_y": null,
            "padding": null,
            "right": null,
            "top": null,
            "visibility": null,
            "width": null
          }
        },
        "2bf0884c34c84d6b9f8b3c572ea7b3f3": {
          "model_module": "@jupyter-widgets/base",
          "model_module_version": "1.2.0",
          "model_name": "LayoutModel",
          "state": {
            "_model_module": "@jupyter-widgets/base",
            "_model_module_version": "1.2.0",
            "_model_name": "LayoutModel",
            "_view_count": null,
            "_view_module": "@jupyter-widgets/base",
            "_view_module_version": "1.2.0",
            "_view_name": "LayoutView",
            "align_content": null,
            "align_items": null,
            "align_self": null,
            "border": null,
            "bottom": null,
            "display": null,
            "flex": null,
            "flex_flow": null,
            "grid_area": null,
            "grid_auto_columns": null,
            "grid_auto_flow": null,
            "grid_auto_rows": null,
            "grid_column": null,
            "grid_gap": null,
            "grid_row": null,
            "grid_template_areas": null,
            "grid_template_columns": null,
            "grid_template_rows": null,
            "height": null,
            "justify_content": null,
            "justify_items": null,
            "left": null,
            "margin": null,
            "max_height": null,
            "max_width": null,
            "min_height": null,
            "min_width": null,
            "object_fit": null,
            "object_position": null,
            "order": null,
            "overflow": null,
            "overflow_x": null,
            "overflow_y": null,
            "padding": null,
            "right": null,
            "top": null,
            "visibility": null,
            "width": null
          }
        },
        "395095fe8a6f47c99ad2dc08a21eeaca": {
          "model_module": "@jupyter-widgets/controls",
          "model_module_version": "1.5.0",
          "model_name": "VBoxModel",
          "state": {
            "_dom_classes": [],
            "_model_module": "@jupyter-widgets/controls",
            "_model_module_version": "1.5.0",
            "_model_name": "VBoxModel",
            "_view_count": null,
            "_view_module": "@jupyter-widgets/controls",
            "_view_module_version": "1.5.0",
            "_view_name": "VBoxView",
            "box_style": "",
            "children": [
              "IPY_MODEL_fbcdd066bb2b4b66bd6feccec9e1ef5b",
              "IPY_MODEL_507439400c344516b6433409eeddda92"
            ],
            "layout": "IPY_MODEL_e8b3749e6d3f488cac74c989e3ad14ec"
          }
        },
        "507439400c344516b6433409eeddda92": {
          "model_module": "@jupyter-widgets/controls",
          "model_module_version": "1.5.0",
          "model_name": "FloatProgressModel",
          "state": {
            "_dom_classes": [],
            "_model_module": "@jupyter-widgets/controls",
            "_model_module_version": "1.5.0",
            "_model_name": "FloatProgressModel",
            "_view_count": null,
            "_view_module": "@jupyter-widgets/controls",
            "_view_module_version": "1.5.0",
            "_view_name": "ProgressView",
            "bar_style": "",
            "description": "",
            "description_tooltip": null,
            "layout": "IPY_MODEL_227ef062e80a47fca2ecf1bec4e1783e",
            "max": 1,
            "min": 0,
            "orientation": "horizontal",
            "style": "IPY_MODEL_0ca964d01b18436ab73410f1593ae66f",
            "value": 1
          }
        },
        "e8b3749e6d3f488cac74c989e3ad14ec": {
          "model_module": "@jupyter-widgets/base",
          "model_module_version": "1.2.0",
          "model_name": "LayoutModel",
          "state": {
            "_model_module": "@jupyter-widgets/base",
            "_model_module_version": "1.2.0",
            "_model_name": "LayoutModel",
            "_view_count": null,
            "_view_module": "@jupyter-widgets/base",
            "_view_module_version": "1.2.0",
            "_view_name": "LayoutView",
            "align_content": null,
            "align_items": null,
            "align_self": null,
            "border": null,
            "bottom": null,
            "display": null,
            "flex": null,
            "flex_flow": null,
            "grid_area": null,
            "grid_auto_columns": null,
            "grid_auto_flow": null,
            "grid_auto_rows": null,
            "grid_column": null,
            "grid_gap": null,
            "grid_row": null,
            "grid_template_areas": null,
            "grid_template_columns": null,
            "grid_template_rows": null,
            "height": null,
            "justify_content": null,
            "justify_items": null,
            "left": null,
            "margin": null,
            "max_height": null,
            "max_width": null,
            "min_height": null,
            "min_width": null,
            "object_fit": null,
            "object_position": null,
            "order": null,
            "overflow": null,
            "overflow_x": null,
            "overflow_y": null,
            "padding": null,
            "right": null,
            "top": null,
            "visibility": null,
            "width": null
          }
        },
        "fbcdd066bb2b4b66bd6feccec9e1ef5b": {
          "model_module": "@jupyter-widgets/controls",
          "model_module_version": "1.5.0",
          "model_name": "LabelModel",
          "state": {
            "_dom_classes": [],
            "_model_module": "@jupyter-widgets/controls",
            "_model_module_version": "1.5.0",
            "_model_name": "LabelModel",
            "_view_count": null,
            "_view_module": "@jupyter-widgets/controls",
            "_view_module_version": "1.5.0",
            "_view_name": "LabelView",
            "description": "",
            "description_tooltip": null,
            "layout": "IPY_MODEL_2bf0884c34c84d6b9f8b3c572ea7b3f3",
            "placeholder": "​",
            "style": "IPY_MODEL_1c08e3b58cf244c5bb75873caa3cb2ce",
            "value": "82.796 MB of 82.796 MB uploaded (0.014 MB deduped)\r"
          }
        }
      }
    }
  },
  "nbformat": 4,
  "nbformat_minor": 0
}
